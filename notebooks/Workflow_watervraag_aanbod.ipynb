{
 "cells": [
  {
   "cell_type": "markdown",
   "id": "7cc3bb6b-5490-4cc0-9885-86b9253b8738",
   "metadata": {},
   "source": [
    "# Watervraag, -aanbod en -tekort \n",
    "Dit script schaalt Mozart-uitvoer van LSW-schaal naar peilgebieden-schaal. \n",
    "Ook wordt door middel van de basisprognoses een factor toegekend om zo de verandering van de watervraag, -aanbod en -tekort in de toekomst in beeld te brengen.\n",
    "Tot slot wordt een Monte Carlo analyse uitgevoerd waarmee de nauwkeurigheid van de resultaten beoordeeld wordt.\n",
    "De aanpak wordt schematisch weergegeven in onderstaand figuur:"
   ]
  },
  {
   "cell_type": "markdown",
   "id": "6f09b2b0-1bbe-4878-a791-ef84f4299004",
   "metadata": {},
   "source": [
    "<img src=\"flowchart_hdsr.png\">"
   ]
  },
  {
   "cell_type": "markdown",
   "id": "28045c32-78ea-416d-85fb-8dbe78fa1f30",
   "metadata": {},
   "source": [
    "# Data\n",
    "* Topografische basisbestand : top10nl\n",
    "* Uitvoer Mozart: Validatie LHM 4.1 (periode 2011-2020)\n",
    "* Peilgebieden: data Hoogheemraadschap De Stichtse Rijnlanden\n",
    "* Toekomstscenarios: Basisprognoses DPZW"
   ]
  },
  {
   "cell_type": "markdown",
   "id": "9e8e3c8f-17b0-4df4-acd6-fe6268eb7c5c",
   "metadata": {},
   "source": [
    "1: Importeren van packages"
   ]
  },
  {
   "cell_type": "code",
   "execution_count": null,
   "id": "d381e418-4aa2-44cb-b037-9e27066597eb",
   "metadata": {},
   "outputs": [],
   "source": [
    "# generieke imports\n",
    "import copy\n",
    "import pandas as pd\n",
    "import geopandas as gpd\n",
    "from tqdm import tqdm\n",
    "import matplotlib.pyplot as plt\n",
    "\n",
    "# specifieke imports\n",
    "import functies_watervraag_aanbod as f_wa\n"
   ]
  },
  {
   "cell_type": "markdown",
   "id": "f61717c4-12e5-474e-a77d-faaeb9228df5",
   "metadata": {},
   "source": [
    "2: Definiëren  van bestandsnamen"
   ]
  },
  {
   "cell_type": "code",
   "execution_count": null,
   "id": "9e12df53-b605-4e67-854c-49aad2a087ee",
   "metadata": {},
   "outputs": [],
   "source": [
    "# definitie van een dictionary voor de bestandsnamen\n",
    "fNames = dict()\n",
    "\n",
    "# top10nl\n",
    "fNames['top10nl'] = r'..\\data\\top10nl\\clip\\top10nl_terrein_water_weg.gpkg'\n",
    "\n",
    "# koppelcodes top10nl en Mozart\n",
    "fNames['top10nl_koppeling'] = r'..\\data\\top10nl\\koppeling_top10nl_mozart.xlsx'\n",
    "\n",
    "# LSW-polygonen\n",
    "fNames['lsw'] = r'..\\data\\geo\\lsw\\lsw_hdsr_large.shp'\n",
    "\n",
    "# peilgebieden\n",
    "fNames['peilgebieden'] = r'..\\data\\GISdata\\peilgebieden.gpkg'\n",
    "\n",
    "# uitvoer mozart\n",
    "fNames['mozart_out'] = r'..\\data\\mozart\\lswwaterbalans.out'\n"
   ]
  },
  {
   "cell_type": "markdown",
   "id": "d5b46708-0a26-450d-82ba-23379fcc3740",
   "metadata": {},
   "source": [
    "3: Inlezen van de invoerdata"
   ]
  },
  {
   "cell_type": "code",
   "execution_count": null,
   "id": "cf1a2bfe-cd9a-40fb-be02-5766135d2e7a",
   "metadata": {},
   "outputs": [],
   "source": [
    "data = dict()\n",
    "data['top10nl'] = gpd.read_file(fNames['top10nl'])\n",
    "data['lsw'] = gpd.read_file(fNames['lsw'])\n",
    "data['peilgebieden'] = gpd.read_file(fNames['peilgebieden'])\n",
    "\n",
    "# definieer RD-projectie voor LSW's\n",
    "data['lsw'] = data['lsw'].set_crs(epsg=28992)\n",
    "\n",
    "# lees het grote tekstbestand met de uitvoer van Mozart\n",
    "df_mozart = f_wa.inlezen_mozart_data(fNames['mozart_out'],\n",
    "                                schrijf_csv=False)\n",
    "\n",
    "# verkrijg kolomnaam van vraag- en aanbodtermen\n",
    "demand_columns, alloca_columns = f_wa.kolomnamen_vraag_aanbod(df_mozart)\n",
    "\n",
    "#%% inlezen koppelcodes\n",
    "data['koppelcodes'] = pd.read_excel(fNames['top10nl_koppeling'])\n",
    "\n",
    "# voeg koppelcodes toe aan GeoDataFrame van top10nl\n",
    "data['top10nl_gekoppeld'] = data['top10nl'].merge(data['koppelcodes'], on='typelandgebruik')\n",
    "\n",
    "print('Data correct ingeladen.')"
   ]
  },
  {
   "cell_type": "markdown",
   "id": "36ca8571-cfaa-4d79-8596-1418a9d30a32",
   "metadata": {},
   "source": [
    "4: schaal vervolgens de mozart-uitvoer per LSW naar peilgebiedschaal"
   ]
  },
  {
   "cell_type": "code",
   "execution_count": null,
   "id": "78d80543-c4bc-4314-a5ad-516229f336d1",
   "metadata": {},
   "outputs": [],
   "source": [
    "# verkrijg de LSW-nummers\n",
    "LSW_NRS = data['lsw']['LSWFINAL']\n",
    "\n",
    "# definieer dictionary voor resultaten per peilgebied\n",
    "dict_peilgebieden = dict()\n",
    "\n",
    "# loop over elke LSW\n",
    "for _, lsw_nr in tqdm(LSW_NRS[:].iteritems()):\n",
    "    # print(lsw_nr)\n",
    "\n",
    "    # selecteer LSW-gegevens\n",
    "    lsw_data = data['lsw'][data['lsw']['LSWFINAL']==lsw_nr]\n",
    "    \n",
    "    # bereken de intersection tussen de lsw's en de peilgebieden\n",
    "    data['lsw_peilgebied'] = gpd.overlay(lsw_data,\n",
    "                                      data['peilgebieden'],\n",
    "                                      how='intersection')\n",
    "    \n",
    "    data['lsw_peilgebied_top10nl'] = gpd.overlay(data['lsw_peilgebied'],\n",
    "                                                 data['top10nl_gekoppeld'],\n",
    "                                                 how='intersection')\n",
    "    \n",
    "    # bereken de intersection tussen de lsw's en top10nl\n",
    "    data['lsw_top10nl'] = gpd.overlay(lsw_data,\n",
    "                                      data['top10nl_gekoppeld'],\n",
    "                                      how='intersection')\n",
    "    \n",
    "    # dissolve top10nl op koppelcodes\n",
    "    data['lsw_top10nl_dissolved'] = data['lsw_top10nl'].dissolve('mozart_koppeling', as_index=False)\n",
    "       \n",
    "    # selecteer de data van de LSW's in het gebied van HDSR op basis van ID's\n",
    "    df_mozart_lsw = f_wa.selecteer_LSWs(df_mozart,\n",
    "                             [lsw_nr],\n",
    "                             schrijf_csv=False)\n",
    "    \n",
    "    # check dat er naar 1 lsw wordt gekeken\n",
    "    assert len(df_mozart_lsw['LSWNR'].unique())==1\n",
    "    \n",
    "    # verkrijg watervraag en wateraanbod voor de lsw\n",
    "    df_vraag, df_aanbod = f_wa.mozart_to_df(df_mozart_lsw, demand_columns, alloca_columns)\n",
    "    \n",
    "    # bereken oppervlakte van de landgebruiktypen voor de lsw\n",
    "    df_areas_lsw = pd.DataFrame(index=data['lsw_top10nl_dissolved']['mozart_koppeling'],\n",
    "                                data=data['lsw_top10nl_dissolved'].area.values)\n",
    "    \n",
    "    df_percentages_lsw = df_areas_lsw/df_areas_lsw.sum()\n",
    "    \n",
    "    # verkrijg de unieke CODE-id's van de peilgebieden\n",
    "    peilgebieden_codes = data['lsw_peilgebied_top10nl']['CODE'].unique()\n",
    "    \n",
    "    # loop over elk peilgebied met een unieke CODE\n",
    "    for code in peilgebieden_codes[:]:\n",
    "        # print(code)\n",
    "        \n",
    "        top10nl_peilgebied = data['lsw_peilgebied_top10nl'][data['lsw_peilgebied_top10nl']['CODE']==code]\n",
    "        \n",
    "        # dissolve top10nl op koppelcodes\n",
    "        top10nl_peilgebied_dissolved = top10nl_peilgebied.dissolve('mozart_koppeling', as_index=False)\n",
    "    \n",
    "        df_areas_peilgebied = pd.DataFrame(index=top10nl_peilgebied_dissolved['mozart_koppeling'],\n",
    "                                           data=top10nl_peilgebied_dissolved.area.values)\n",
    "    \n",
    "        percentage_peilgbd_lsw = df_areas_peilgebied/df_areas_lsw\n",
    "        \n",
    "        # zet NaN-waarden om naar 0%\n",
    "        percentage_peilgbd_lsw.fillna(0, inplace=True)\n",
    "    \n",
    "    \n",
    "        # bereken de watervraag, -aanbod en -tekorten voor de functies waar mogelijk \n",
    "        df_peilgebied = f_wa.verdeel_watervraag_aanbod(df_vraag, df_aanbod, percentage_peilgbd_lsw)\n",
    "    \n",
    "        if code in dict_peilgebieden.keys():\n",
    "            # print(f'Peilgebied {code} al in dictionary. De resultaten worden gemerged.')\n",
    "            \n",
    "            dict_peilgebieden[code] = dict_peilgebieden[code] + df_peilgebied\n",
    "            \n",
    "        else:\n",
    "            dict_peilgebieden[code] = copy.deepcopy(df_peilgebied)\n",
    "            \n",
    "#%% exporteer reeksen naar csv\n",
    "for key, data_dict in dict_peilgebieden.items():\n",
    "    data_dict.to_csv(fr'..\\reeksen\\baseline\\mozart_peilgebied_{key}_geschaald.csv')"
   ]
  },
  {
   "cell_type": "markdown",
   "id": "2f5fbaee-9408-4e3d-824e-912e34952e2c",
   "metadata": {},
   "source": [
    "4a: check de reeksen"
   ]
  },
  {
   "cell_type": "code",
   "execution_count": null,
   "id": "f54f1242-c03b-43cf-a627-bcdd9c471842",
   "metadata": {},
   "outputs": [],
   "source": [
    "test_naam = r'd:\\projecten\\hydrologische_informatieproducten\\werkmap\\reeksen\\baseline\\mozart_peilgebied_PG2077_geschaald.csv'\n",
    "\n",
    "df_test = pd.read_csv(test_naam,\n",
    "                     parse_dates=True,\n",
    "                     index_col=['TIMEEND'])\n",
    "\n",
    "fig, ax = plt.subplots()\n",
    "df_test['watervraag_landbouw'].plot(ax=ax)\n",
    "df_test['wateraanbod_landbouw'].plot(ax=ax)\n",
    "ax.legend()\n",
    "ax.set_ylabel('Volume water per decade [$m^3$/decade]')\n",
    "ax.set_title('PG2077')"
   ]
  },
  {
   "cell_type": "markdown",
   "id": "b800299f-2820-41c9-a344-f99c156b503c",
   "metadata": {},
   "source": [
    "#5: Bepaal factor voor toekomstscenario"
   ]
  },
  {
   "cell_type": "code",
   "execution_count": null,
   "id": "42659006-c502-4777-aa45-f449ee8eb97e",
   "metadata": {},
   "outputs": [],
   "source": [
    "# definieer de scenarios\n",
    "scenarios = ['REF2017', 'W2050']\n",
    "\n",
    "# definieer de map waar de scenario-data staan\n",
    "directory = r'd:\\projecten\\hydrologische_informatieproducten\\werkmap\\data\\lhm_toekomst\\\\'\n",
    "\n",
    "# zet scenario-data om naar dataframe\n",
    "dict_scenarios = f_wa.basisprognoses_naar_dataframe(directory, scenarios)\n",
    "\n",
    "# bereken de gesommeerde watervraag en het gesommeerde wateraanbod\n",
    "dict_watervraag_aanbod = dict()\n",
    "for key, df in dict_scenarios.items():\n",
    "    dict_watervraag_aanbod[key] = f_wa.mozart_watervraag_wateraanbod(df)\n",
    "\n",
    "# bereken de factor tussen REF2017 en W2050\n",
    "factor_vraag = dict_watervraag_aanbod['W2050']['watervraag']/dict_watervraag_aanbod['REF2017']['watervraag']\n",
    "factor_aanbod = dict_watervraag_aanbod['W2050']['wateraanbod']/dict_watervraag_aanbod['REF2017']['wateraanbod']\n",
    "\n"
   ]
  },
  {
   "cell_type": "markdown",
   "id": "50a06f24-9041-4b87-b681-0b6e2884e1af",
   "metadata": {},
   "source": [
    "# 5b: test voor watervaag"
   ]
  },
  {
   "cell_type": "code",
   "execution_count": null,
   "id": "00bf23f7-6862-440e-8bc3-2b2bd415d8e2",
   "metadata": {},
   "outputs": [],
   "source": [
    "df_test_toekomst = df_test['watervraag_landbouw']*factor_vraag.mean()\n",
    "\n",
    "fig, ax = plt.subplots()\n",
    "df_test['watervraag_landbouw'].plot(ax=ax)\n",
    "df_test_toekomst.plot(ax=ax)\n",
    "ax.legend()\n",
    "\n",
    "\n",
    "diff = df_test_toekomst-df_test['watervraag_landbouw']\n",
    "fig, ax = plt.subplots()\n",
    "diff.plot(ax=ax)\n"
   ]
  },
  {
   "cell_type": "markdown",
   "id": "36d03830-b8d3-4481-872f-d70f947d9c06",
   "metadata": {},
   "source": [
    "# 6: Monte Carlo"
   ]
  },
  {
   "cell_type": "code",
   "execution_count": null,
   "id": "d3a06fd9-b910-4db3-b40d-cd71b2c82105",
   "metadata": {},
   "outputs": [],
   "source": []
  }
 ],
 "metadata": {
  "kernelspec": {
   "display_name": "Python 3 (ipykernel)",
   "language": "python",
   "name": "python3"
  },
  "language_info": {
   "codemirror_mode": {
    "name": "ipython",
    "version": 3
   },
   "file_extension": ".py",
   "mimetype": "text/x-python",
   "name": "python",
   "nbconvert_exporter": "python",
   "pygments_lexer": "ipython3",
   "version": "3.9.7"
  }
 },
 "nbformat": 4,
 "nbformat_minor": 5
}
